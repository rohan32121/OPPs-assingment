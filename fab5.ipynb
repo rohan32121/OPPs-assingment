{
 "cells": [
  {
   "cell_type": "code",
   "execution_count": 2,
   "id": "2609283a-5d54-4017-bd1e-232833279c7e",
   "metadata": {},
   "outputs": [],
   "source": [
    "#1. explain class and object with respect to object oriented programming. Give a suitable example.\n",
    "\n",
    "#Ans: Classes are user-defined data types that act as the blueprint for individual objects, attributes and methods. Objects are instances of a class created with specifically defined data. Objects can correspond to real-world objects or an abstract entity."
   ]
  },
  {
   "cell_type": "code",
   "execution_count": 3,
   "id": "61739f2b-ca3b-40a1-886f-f0456bb57ed3",
   "metadata": {},
   "outputs": [],
   "source": [
    "a = 1"
   ]
  },
  {
   "cell_type": "code",
   "execution_count": 4,
   "id": "601e57be-d903-4026-9f51-66c068a6d2cb",
   "metadata": {},
   "outputs": [
    {
     "name": "stdout",
     "output_type": "stream",
     "text": [
      "<class 'int'>\n"
     ]
    }
   ],
   "source": [
    "print(type(a))"
   ]
  },
  {
   "cell_type": "code",
   "execution_count": 5,
   "id": "b48c3131-0bba-4dc2-ae98-da8ec428066b",
   "metadata": {},
   "outputs": [
    {
     "name": "stdout",
     "output_type": "stream",
     "text": [
      "<class 'str'>\n"
     ]
    }
   ],
   "source": [
    "print(type(\"pwpskills\"))"
   ]
  },
  {
   "cell_type": "code",
   "execution_count": 7,
   "id": "e8bd8c1e-0888-49ea-bfad-56a152c459ae",
   "metadata": {},
   "outputs": [],
   "source": [
    "#2. Name the four pillars of OPPs.\n",
    "\n",
    "#Ans: hese principles are called the four pillars of object-oriented programming (OOP). These four pillars are Inheritance, Polymorphism, Encapsulation and Abstraction"
   ]
  },
  {
   "cell_type": "code",
   "execution_count": null,
   "id": "bc412469-93cd-48ed-b33d-666ec3828dd4",
   "metadata": {},
   "outputs": [],
   "source": [
    "class pwskills1 :\n",
    "    \n",
    "    def __init__(self , phone_number, email_id, student_id):\n",
    "        self.phone_number = phone_number\n",
    "        self.email_id = email_id\n",
    "        self.student_id = student_id\n",
    "        \n",
    "    def return_student_details(self) :\n",
    "        return self.student_id, self.phone_number, self.email_id"
   ]
  },
  {
   "cell_type": "code",
   "execution_count": null,
   "id": "bbda66a2-6efb-4456-baba-e84627f780de",
   "metadata": {},
   "outputs": [],
   "source": [
    "rohan = pwskills1(121556435, \"rohan@gmail.com\", 454)"
   ]
  },
  {
   "cell_type": "code",
   "execution_count": null,
   "id": "da56192d-736e-4eea-9500-a74d44f500f2",
   "metadata": {},
   "outputs": [],
   "source": [
    "rohan.phone_number"
   ]
  },
  {
   "cell_type": "code",
   "execution_count": null,
   "id": "fd3ce552-ebe6-46ff-841c-2ab27e2cb3bc",
   "metadata": {},
   "outputs": [],
   "source": []
  },
  {
   "cell_type": "code",
   "execution_count": null,
   "id": "2bd607e5-e4ad-4a0f-b205-e1ae9c5f640b",
   "metadata": {},
   "outputs": [],
   "source": [
    "#3. Explain why the __int__() function is used. give a suitable example.\n",
    "\n",
    "#Ans: The examples above are classes and objects in their simplest form, and are not really useful in real life applications. To understand the meaning of classes we have to understand the built-in __init__() function. All classes have a function called __init__(), which is always executed when the class is being initiated.\n"
   ]
  },
  {
   "cell_type": "code",
   "execution_count": 2,
   "id": "8949207c-d806-4f38-b36e-7f7d5aca4893",
   "metadata": {},
   "outputs": [],
   "source": [
    "#4. why self is used in OOPs'\n",
    "\n",
    "#Ans: in which method you uesd for class it has to bind with class. than class will understood itself. sefl is a very very peramitter. "
   ]
  },
  {
   "cell_type": "code",
   "execution_count": 3,
   "id": "31a44a50-6bc4-44d9-bd81-af0db696872a",
   "metadata": {},
   "outputs": [],
   "source": [
    "#5. what is inheritance ? Give an example of each type of inheritance.\n",
    "\n",
    "#Ans: In object-oriented programming, inheritance is the mechanism of basing an object or class upon another object or class, retaining similar implementation.\n",
    "\n",
    "\n",
    " Python program for demonstrating inheritance.\n",
    "    Here, we will create the base class or the Parent class.\n",
    "    class Child1:\n",
    "    # here, we are apply the Constructor.\n",
    "    def __init__(self, name):\n",
    "    self.name = name.\n",
    "    # now, we will creat a class To get name.\n",
    "    def getName1(self):"
   ]
  },
  {
   "cell_type": "code",
   "execution_count": null,
   "id": "81991ea9-8312-4a95-a7a1-18a4bd5aae95",
   "metadata": {},
   "outputs": [],
   "source": []
  }
 ],
 "metadata": {
  "kernelspec": {
   "display_name": "Python 3 (ipykernel)",
   "language": "python",
   "name": "python3"
  },
  "language_info": {
   "codemirror_mode": {
    "name": "ipython",
    "version": 3
   },
   "file_extension": ".py",
   "mimetype": "text/x-python",
   "name": "python",
   "nbconvert_exporter": "python",
   "pygments_lexer": "ipython3",
   "version": "3.10.6"
  }
 },
 "nbformat": 4,
 "nbformat_minor": 5
}
